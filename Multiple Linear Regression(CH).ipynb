{
 "cells": [
  {
   "cell_type": "markdown",
   "metadata": {},
   "source": [
    "### Multiple Linear Regression with Multiple Variable - Using built-in diabetes dataset"
   ]
  },
  {
   "cell_type": "code",
   "execution_count": 7,
   "metadata": {},
   "outputs": [
    {
     "name": "stdout",
     "output_type": "stream",
     "text": [
      "Mean_Squared_Error :  1826.5364191345423\n",
      "Weights:  [  -1.16924976 -237.18461486  518.30606657  309.04865826 -763.14121622\n",
      "  458.90999325   80.62441437  174.32183366  721.49712065   79.19307944]\n",
      "Intercept:  153.05827988224112\n"
     ]
    }
   ],
   "source": [
    "import numpy as np\n",
    "from sklearn import linear_model,datasets\n",
    "from sklearn.metrics import mean_squared_error\n",
    "\n",
    "# **************** Loading the Dataset **************\n",
    "diabetes = datasets.load_diabetes()\n",
    "\n",
    "# **************** Using all row data from diabetes dataset ***************\n",
    "diabetes_X = diabetes.data\n",
    "\n",
    "# *************** Splitting the data into two half. i.e, Train & Test data **************\n",
    "diabetes_X_train = diabetes.data[:-30]\n",
    "diabetes_X_test  = diabetes.data[-30:]\n",
    "\n",
    "diabetes_Y_train = diabetes.target[:-30]\n",
    "diabetes_Y_test  = diabetes.target[-30:]\n",
    "\n",
    "# *************** Modelling the data using LinearRegression Model ****************\n",
    "model = linear_model.LinearRegression()\n",
    "\n",
    "# *************** Fitting the model using the Train datasets ***************\n",
    "model.fit(diabetes_X_train,diabetes_Y_train)\n",
    "\n",
    "# *********** Predicting the model using the test dataset ***************\n",
    "diabetes_Predict = model.predict(diabetes_X_test)\n",
    "\n",
    "print(\"Mean_Squared_Error : \",mean_squared_error(diabetes_Y_test,diabetes_Predict))\n",
    "print(\"Weights: \",model.coef_)\n",
    "print(\"Intercept: \",model.intercept_)"
   ]
  },
  {
   "cell_type": "code",
   "execution_count": null,
   "metadata": {},
   "outputs": [],
   "source": []
  }
 ],
 "metadata": {
  "kernelspec": {
   "display_name": "Python 3",
   "language": "python",
   "name": "python3"
  },
  "language_info": {
   "codemirror_mode": {
    "name": "ipython",
    "version": 3
   },
   "file_extension": ".py",
   "mimetype": "text/x-python",
   "name": "python",
   "nbconvert_exporter": "python",
   "pygments_lexer": "ipython3",
   "version": "3.7.3"
  }
 },
 "nbformat": 4,
 "nbformat_minor": 2
}
